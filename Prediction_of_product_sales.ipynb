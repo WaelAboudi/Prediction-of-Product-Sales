{
  "nbformat": 4,
  "nbformat_minor": 0,
  "metadata": {
    "colab": {
      "provenance": [],
      "authorship_tag": "ABX9TyN+u0Nxi6w2R5pKRQT7/6KF",
      "include_colab_link": true
    },
    "kernelspec": {
      "name": "python3",
      "display_name": "Python 3"
    },
    "language_info": {
      "name": "python"
    }
  },
  "cells": [
    {
      "cell_type": "markdown",
      "metadata": {
        "id": "view-in-github",
        "colab_type": "text"
      },
      "source": [
        "<a href=\"https://colab.research.google.com/github/WaelAboudi/Prediction-of-Product-Sales/blob/main/Prediction_of_product_sales.ipynb\" target=\"_parent\"><img src=\"https://colab.research.google.com/assets/colab-badge.svg\" alt=\"Open In Colab\"/></a>"
      ]
    },
    {
      "cell_type": "markdown",
      "source": [
        "# **Prediction of product sales**\n",
        "- ***Author: Wael Aboudi***\n",
        "\n",
        "\n"
      ],
      "metadata": {
        "id": "E4MMkmrNsRVF"
      }
    },
    {
      "cell_type": "markdown",
      "source": [
        "## **Project Overview**"
      ],
      "metadata": {
        "id": "EyzvpXUVs1Hh"
      }
    },
    {
      "cell_type": "code",
      "source": [],
      "metadata": {
        "id": "oSnXcsxYtm9s"
      },
      "execution_count": null,
      "outputs": []
    },
    {
      "cell_type": "markdown",
      "source": [
        "## **Load and inspect data**"
      ],
      "metadata": {
        "id": "sJafpFzDtDJR"
      }
    },
    {
      "cell_type": "code",
      "source": [],
      "metadata": {
        "id": "_Vdu_IDAtn7h"
      },
      "execution_count": null,
      "outputs": []
    },
    {
      "cell_type": "markdown",
      "source": [
        "## **Clean Data**"
      ],
      "metadata": {
        "id": "MaSB02PVtG_5"
      }
    },
    {
      "cell_type": "code",
      "source": [],
      "metadata": {
        "id": "GM11QGM_tpGa"
      },
      "execution_count": null,
      "outputs": []
    },
    {
      "cell_type": "markdown",
      "source": [
        "## **Exploratory Data Analysis**"
      ],
      "metadata": {
        "id": "k0O7rIQ8tO6g"
      }
    },
    {
      "cell_type": "code",
      "source": [],
      "metadata": {
        "id": "CizdkXmctp0L"
      },
      "execution_count": null,
      "outputs": []
    },
    {
      "cell_type": "markdown",
      "source": [
        "## **Feature Inspection**"
      ],
      "metadata": {
        "id": "nvs_VgW1tW5W"
      }
    },
    {
      "cell_type": "code",
      "source": [],
      "metadata": {
        "id": "pB8W2nabtrCi"
      },
      "execution_count": null,
      "outputs": []
    }
  ]
}